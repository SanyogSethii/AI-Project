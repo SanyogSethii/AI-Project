{
 "cells": [
  {
   "cell_type": "code",
   "execution_count": 3,
   "id": "51e148f5-b49f-48e6-9d5c-af4a28e8c653",
   "metadata": {},
   "outputs": [],
   "source": [
    "import pandas as pd\n",
    "import numpy as np\n",
    "from sklearn.preprocessing import MultiLabelBinarizer\n",
    "from sklearn.tree import DecisionTreeClassifier\n",
    "import difflib"
   ]
  },
  {
   "cell_type": "code",
   "execution_count": 11,
   "id": "b86a1495-68d3-45ad-880e-611574319ea9",
   "metadata": {},
   "outputs": [],
   "source": [
    "def split_symptoms(symptom_string):\n",
    "    return [s.strip().lower() for s in symptom_string.split(',')]\n",
    "\n",
    "def encode_symptoms(symptom_lists):\n",
    "    mlb = MultiLabelBinarizer()\n",
    "    X = mlb.fit_transform(symptom_lists)\n",
    "    return X, mlb\n",
    "\n",
    "def encode_diseases(diseases):\n",
    "    disease_to_num = {d: i for i, d in enumerate(diseases)}\n",
    "    num_to_disease = {i: d for d, i in disease_to_num.items()}\n",
    "    return disease_to_num, num_to_disease\n",
    "\n",
    "def prepare_training_data(data):\n",
    "    symptom_lists = data['Symptoms'].apply(split_symptoms)\n",
    "    X, mlb = encode_symptoms(symptom_lists)\n",
    "    disease_to_num, num_to_disease = encode_diseases(data['Disease'])\n",
    "    y = data['Disease'].map(disease_to_num)\n",
    "    return X, y, mlb, disease_to_num, num_to_disease"
   ]
  },
  {
   "cell_type": "code",
   "execution_count": 13,
   "id": "4ef20df4-487f-4152-89af-319366b22026",
   "metadata": {},
   "outputs": [
    {
     "name": "stdout",
     "output_type": "stream",
     "text": [
      "        Disease                                           Symptoms\n",
      "0   Common Cold           cough, sneezing, sore throat, runny nose\n",
      "1           Flu     fever, chills, muscle aches, fatigue, headache\n",
      "2      Diabetes  increased thirst, frequent urination, fatigue,...\n",
      "3  Hypertension  high blood pressure, headache, dizziness, nose...\n",
      "4        Asthma  shortness of breath, wheezing, coughing, chest...\n",
      "5      Migraine   headache, nausea, sensitivity to light, vomiting\n",
      "6    Chickenpox           fever, rash, tiredness, loss of appetite\n",
      "7  Tuberculosis  persistent cough, chest pain, weight loss, nig...\n",
      "8       Malaria          fever, chills, sweating, headache, nausea\n",
      "9        Dengue  high fever, severe headache, joint pain, rash,...\n"
     ]
    }
   ],
   "source": [
    "data = pd.read_csv('disease_symptom_large.csv')\n",
    "print(data.head(10))"
   ]
  },
  {
   "cell_type": "code",
   "execution_count": 15,
   "id": "b603fce9-0fdf-4bcb-84e7-0ef7c7c7246e",
   "metadata": {},
   "outputs": [],
   "source": [
    "def train_model():\n",
    "    \n",
    "    X, y, mlb, disease_to_num, num_to_disease = prepare_training_data(data)\n",
    "    model = DecisionTreeClassifier()\n",
    "    model.fit(X, y)\n",
    "    return model, mlb, data, disease_to_num, num_to_disease\n",
    "\n",
    "def convert_input_to_vector(input_symptoms, mlb):\n",
    "    input_symptoms = [s.strip().lower() for s in input_symptoms]\n",
    "    input_vector = np.zeros(len(mlb.classes_))\n",
    "    for s in input_symptoms:\n",
    "        if s in mlb.classes_:\n",
    "            index = mlb.classes_.tolist().index(s)\n",
    "            input_vector[index] = 1\n",
    "    return input_vector\n",
    "\n",
    "def predict_disease(input_symptoms, model, mlb, num_to_disease):\n",
    "    input_vector = convert_input_to_vector(input_symptoms, mlb)\n",
    "    prediction = model.predict([input_vector])[0]\n",
    "    return num_to_disease[prediction]\n",
    "\n",
    "def calculate_bmi():\n",
    "    try:\n",
    "        weight = float(input(\"Enter your weight in kilograms: \"))\n",
    "        height = float(input(\"Enter your height in meters: \"))\n",
    "        \n",
    "        if weight <= 0 or height <= 0:\n",
    "            print(\"Weight and height must be positive numbers.\")\n",
    "            return\n",
    "\n",
    "        bmi = weight / (height ** 2)\n",
    "        print(f\"Your BMI is: {bmi:.2f}\")\n",
    "\n",
    "        if bmi < 18.5:\n",
    "            print(\"Category: Underweight\")\n",
    "        elif 18.5 <= bmi < 25:\n",
    "            print(\"Category: Normal weight\")\n",
    "        elif 25 <= bmi < 30:\n",
    "            print(\"Category: Overweight\")\n",
    "        else:\n",
    "            print(\"Category: Obesity\")\n",
    "\n",
    "    except ValueError:\n",
    "        print(\"Invalid input. Please enter numeric values.\")\n"
   ]
  },
  {
   "cell_type": "code",
   "execution_count": null,
   "id": "1345f18d-6964-462e-b985-6bd8a283efae",
   "metadata": {},
   "outputs": [
    {
     "name": "stdin",
     "output_type": "stream",
     "text": [
      "Enter your name:  SS\n",
      "Enter your age:  20\n"
     ]
    },
    {
     "name": "stdout",
     "output_type": "stream",
     "text": [
      "\n",
      "Menu:\n",
      "1. Predict Disease (Provide symptoms)\n",
      "2. Predict Symptoms (Provide disease)\n",
      "3. Calculate BMI\n",
      "4. Exit\n"
     ]
    },
    {
     "name": "stdin",
     "output_type": "stream",
     "text": [
      "Enter your choice (1-4):  1\n"
     ]
    },
    {
     "name": "stdout",
     "output_type": "stream",
     "text": [
      "\n",
      "========== AVAILABLE SYMPTOMS ==========\n",
      "appetite changes, bleeding, blurred vision, chest pain, chest tightness, chills, cough, coughing, dizziness, fatigue, fever, frequent urination, headache, high blood pressure, high fever, increased thirst, joint pain, loss of appetite, loss of interest, loss of taste, muscle aches, nausea, night sweats, nosebleeds, pale skin, persistent cough, persistent sadness, rash, reduced motion, runny nose, sensitivity to light, severe headache, shortness of breath, sneezing, sore throat, stiffness, sweating, swelling, tiredness, vomiting, weakness, weight loss, wheezing\n",
      "========================================\n",
      "\n"
     ]
    },
    {
     "name": "stdin",
     "output_type": "stream",
     "text": [
      "Enter symptoms separated by commas:  cough, coughing, dizziness, feverr\n"
     ]
    },
    {
     "name": "stdout",
     "output_type": "stream",
     "text": [
      "Did you mean 'fever' instead of 'feverr'? [y/n]\n"
     ]
    },
    {
     "name": "stdin",
     "output_type": "stream",
     "text": [
      " y\n"
     ]
    },
    {
     "name": "stdout",
     "output_type": "stream",
     "text": [
      "\n",
      "Based on your symptoms, the predicted disease is: Common Cold\n",
      "\n",
      "Menu:\n",
      "1. Predict Disease (Provide symptoms)\n",
      "2. Predict Symptoms (Provide disease)\n",
      "3. Calculate BMI\n",
      "4. Exit\n"
     ]
    },
    {
     "name": "stdin",
     "output_type": "stream",
     "text": [
      "Enter your choice (1-4):  2\n"
     ]
    },
    {
     "name": "stdout",
     "output_type": "stream",
     "text": [
      "\n",
      "========== AVAILABLE DISEASES ==========\n",
      "Anemia, Arthritis, Asthma, Chickenpox, Common Cold, Covid-19, Dengue, Depression, Diabetes, Flu, Hypertension, Malaria, Migraine, Pneumonia, Tuberculosis\n",
      "========================================\n",
      "\n"
     ]
    },
    {
     "name": "stdin",
     "output_type": "stream",
     "text": [
      "Enter the disease name:  Asthma\n"
     ]
    },
    {
     "name": "stdout",
     "output_type": "stream",
     "text": [
      "Symptoms associated with Asthma: shortness of breath, wheezing, coughing, chest tightness\n",
      "\n",
      "Menu:\n",
      "1. Predict Disease (Provide symptoms)\n",
      "2. Predict Symptoms (Provide disease)\n",
      "3. Calculate BMI\n",
      "4. Exit\n"
     ]
    }
   ],
   "source": [
    "model, mlb, data, disease_to_num, num_to_disease = train_model()\n",
    "all_known_symptoms = sorted(list(mlb.classes_))\n",
    "disease_to_symptoms = data.set_index('Disease')['Symptoms'].to_dict()\n",
    "\n",
    "name = input(\"Enter your name: \").strip()\n",
    "age = input(\"Enter your age: \").strip()\n",
    "\n",
    "while True:\n",
    "    print(\"\\nMenu:\")\n",
    "    print(\"1. Predict Disease (Provide symptoms)\")\n",
    "    print(\"2. Predict Symptoms (Provide disease)\")\n",
    "    print(\"3. Calculate BMI\")\n",
    "    print(\"4. Exit\")\n",
    "\n",
    "    choice = input(\"Enter your choice (1-4): \").strip()\n",
    "\n",
    "    if choice == '1':\n",
    "        print(\"\\n========== AVAILABLE SYMPTOMS ==========\")\n",
    "        print(\", \".join(all_known_symptoms))\n",
    "        print(\"========================================\\n\")\n",
    "\n",
    "        user_symptoms = input(\"Enter symptoms separated by commas: \").lower().split(',')\n",
    "        user_symptoms = [s.strip() for s in user_symptoms]\n",
    "    \n",
    "        cleaned_symptoms = []\n",
    "        for symptom in user_symptoms:\n",
    "            if symptom in all_known_symptoms:\n",
    "                cleaned_symptoms.append(symptom)\n",
    "            else:\n",
    "                close_matches = difflib.get_close_matches(symptom, all_known_symptoms, n=1, cutoff=0.6)\n",
    "                if close_matches:\n",
    "                    print(f\"Did you mean '{close_matches[0]}' instead of '{symptom}'? [y/n]\")\n",
    "                    answer = input().strip().lower()\n",
    "                    if answer == 'y':\n",
    "                        cleaned_symptoms.append(close_matches[0])\n",
    "                else:\n",
    "                    print(f\"'{symptom}' not recognized and no close match found.\")\n",
    "    \n",
    "        if not cleaned_symptoms:\n",
    "            print(\"No valid symptoms entered. Try again.\")\n",
    "            continue\n",
    "    \n",
    "        predicted = predict_disease(cleaned_symptoms, model, mlb, num_to_disease)\n",
    "        print(\"\\nBased on your symptoms, the predicted disease is:\", predicted)\n",
    "    \n",
    "    elif choice == '2':\n",
    "        diseases_list = sorted(data['Disease'].unique())\n",
    "        print(\"\\n========== AVAILABLE DISEASES ==========\")\n",
    "        print(\", \".join(diseases_list))\n",
    "        print(\"========================================\\n\")\n",
    "    \n",
    "        disease = input(\"Enter the disease name: \").strip()\n",
    "        matched_disease = None\n",
    "        for d in disease_to_symptoms:\n",
    "            if d.lower().strip() == disease.lower():\n",
    "                matched_disease = d\n",
    "                break\n",
    "    \n",
    "        if not matched_disease:\n",
    "            close_matches = difflib.get_close_matches(disease, diseases_list, n=1, cutoff=0.6)\n",
    "            if close_matches:\n",
    "                print(f\"Did you mean '{close_matches[0]}' instead of '{disease}'? [y/n]\")\n",
    "                answer = input().strip().lower()\n",
    "                if answer == 'y':\n",
    "                    matched_disease = close_matches[0]\n",
    "    \n",
    "        if matched_disease:\n",
    "            symptoms = disease_to_symptoms[matched_disease]\n",
    "            print(f\"Symptoms associated with {matched_disease}: {symptoms}\")\n",
    "        else:\n",
    "            print(\"Disease not found in the dataset.\")\n",
    "\n",
    "    elif choice == '3':\n",
    "        calculate_bmi()\n",
    "\n",
    "    elif choice == '4':\n",
    "        print(\"Exiting the program. Stay healthy!\")\n",
    "        break\n",
    "\n",
    "    else:\n",
    "        print(\"Invalid choice. Please select a valid option.\")"
   ]
  }
 ],
 "metadata": {
  "kernelspec": {
   "display_name": "Python [conda env:base] *",
   "language": "python",
   "name": "conda-base-py"
  },
  "language_info": {
   "codemirror_mode": {
    "name": "ipython",
    "version": 3
   },
   "file_extension": ".py",
   "mimetype": "text/x-python",
   "name": "python",
   "nbconvert_exporter": "python",
   "pygments_lexer": "ipython3",
   "version": "3.12.7"
  }
 },
 "nbformat": 4,
 "nbformat_minor": 5
}
